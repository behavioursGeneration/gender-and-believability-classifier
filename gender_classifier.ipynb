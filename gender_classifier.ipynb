{
 "cells": [
  {
   "cell_type": "code",
   "execution_count": null,
   "metadata": {},
   "outputs": [],
   "source": [
    "from collections import Counter\n",
    "from os.path import join\n",
    "import torch\n",
    "import torch.nn as nn\n",
    "import torch.nn.functional as F\n",
    "from utils.utils import *\n",
    "from utils.get_data import load_data\n",
    "from utils.get_generated_data import load_generated_data\n",
    "from sklearn.metrics import accuracy_score\n",
    "from sklearn.metrics import confusion_matrix\n",
    "from sklearn.metrics import accuracy_score, f1_score\n",
    "from sklearn.metrics import f1_score\n",
    "from sklearn.preprocessing import MinMaxScaler"
   ]
  },
  {
   "cell_type": "markdown",
   "metadata": {},
   "source": [
    "# Gender classifier on non verbal behaviour\n"
   ]
  },
  {
   "cell_type": "code",
   "execution_count": null,
   "metadata": {},
   "outputs": [],
   "source": [
    "\n",
    "class Conv(nn.Module):\n",
    "    def __init__(self, in_channels, out_channels):\n",
    "        super().__init__()\n",
    "        self.conv = nn.Sequential(\n",
    "            nn.Conv1d(in_channels, out_channels, kernel_size=3, stride=1, padding=1),\n",
    "            nn.Dropout(0.2),\n",
    "            nn.BatchNorm1d(out_channels),\n",
    "            nn.ReLU(inplace=True)\n",
    "        )\n",
    "\n",
    "    def forward(self, x):\n",
    "        return self.conv(x)\n",
    "    \n",
    "\n",
    "class ConvClassifier(nn.Module):\n",
    "\n",
    "    def __init__(self, latent_dim, nb_classes):\n",
    "        super().__init__()\n",
    "\n",
    "        self.conv1 = Conv(latent_dim, 32)\n",
    "        self.conv2 = Conv(32, 64)\n",
    "        self.fc1 = torch.nn.Linear(64 * 25, 64)\n",
    "        self.fc2 = torch.nn.Linear(64, nb_classes)\n",
    "\n",
    "    def forward(self, x): #(512,6)\n",
    "        x = x.swapaxes(1, 2)\n",
    "        x = self.conv1(x)\n",
    "        x = F.max_pool1d(x, kernel_size=2, stride=2)\n",
    "        x = self.conv2(x)\n",
    "        x = F.max_pool1d(x, kernel_size=2, stride=2)\n",
    "        x = x.view(x.size(0), -1)\n",
    "        x = F.relu(self.fc1(x))\n",
    "        x = self.fc2(x)\n",
    "        x = F.log_softmax(x, dim=1)\n",
    "        return x"
   ]
  },
  {
   "cell_type": "code",
   "execution_count": null,
   "metadata": {},
   "outputs": [],
   "source": [
    "\n",
    "def conf_matrix(y_test, y_pred):\n",
    "    conf_matrix = confusion_matrix(y_test, y_pred)\n",
    "    print(\"Matrice de confusion :\\n\")\n",
    "    print(str(conf_matrix))\n",
    "    errors_per_class = []\n",
    "    for i in range(len(conf_matrix)):\n",
    "        errors_per_class.append(sum(conf_matrix[i]) - conf_matrix[i][i])\n",
    "    print(\"\\nNombre d'erreurs par classe :\\n\")\n",
    "    for i in range(len(errors_per_class)):\n",
    "        print(f\"Classe {i}: {errors_per_class[i]} erreurs\")\n",
    "\n",
    "def test_model(model, test_loader, criterion):\n",
    "    model.eval()\n",
    "    all_predictions = []\n",
    "    all_labels = []\n",
    "    with torch.no_grad():\n",
    "        for inputs, labels in test_loader:\n",
    "            outputs = model(inputs)\n",
    "            loss = criterion(outputs, labels)\n",
    "            item, predicted = torch.max(outputs, 1)\n",
    "            all_predictions.extend(predicted.squeeze().numpy())\n",
    "            all_labels.extend(labels)\n",
    "    all_labels = [one_hot_to_index(ele, \"gender\") for ele in all_labels]\n",
    "    accuracy = accuracy_score(all_labels, all_predictions)\n",
    "    f1 = f1_score(all_labels, all_predictions, average='weighted')\n",
    "    return loss, accuracy, f1, all_labels, all_predictions\n",
    "\n",
    "def train_model(model, criterion, optimizer, train_loader, test_loader, num_epochs=100):\n",
    "    model.train()\n",
    "    for epoch in range(num_epochs):\n",
    "        running_loss = 0.0\n",
    "        for inputs, labels in train_loader:\n",
    "            optimizer.zero_grad()\n",
    "            outputs = model(inputs)\n",
    "            loss = criterion(outputs, labels)\n",
    "            loss.backward()\n",
    "            optimizer.step()\n",
    "            running_loss += loss.item() * inputs.size(0)\n",
    "        epoch_loss = running_loss / len(train_loader.dataset)\n",
    "        test_loss, test_accuracy, test_f1, all_labels, all_predictions = test_model(model, test_loader, criterion)\n",
    "    print(f'Epoch [{epoch+1}/{num_epochs}], Loss: {epoch_loss:.4f}, test_loss: {test_loss:.4f}')\n",
    "    print(f'\\n*****Accuracy on test set: {test_accuracy:.4f}')\n",
    "    print(f'*****F1 on test set: {test_f1:.4f}')\n",
    "    conf_matrix(all_labels, all_predictions)\n",
    "    return model, test_accuracy"
   ]
  },
  {
   "cell_type": "code",
   "execution_count": null,
   "metadata": {},
   "outputs": [],
   "source": [
    "def supress_index(raw_labels_list, labels_list, x):\n",
    "    indices_a_supprimer = []\n",
    "    for i in range(len(raw_labels_list)):\n",
    "        if \"silence\" in raw_labels_list[i]:\n",
    "            indices_a_supprimer.append(i)\n",
    "    tensor = x.clone()\n",
    "    masque = torch.ones(x.size(0), dtype=torch.bool)\n",
    "    masque[indices_a_supprimer] = False\n",
    "    tensor_sans_indices = torch.index_select(tensor, dim=0, index=torch.nonzero(masque).squeeze())\n",
    "    new_labels_list = torch.index_select(labels_list, dim=0, index=torch.nonzero(masque).squeeze())\n",
    "    return tensor_sans_indices, new_labels_list\n",
    "\n",
    "def reshape_for_classif(x_in, y_in, scaler=None):\n",
    "    minMaxScaler = MinMaxScaler((-1,1))\n",
    "    if scaler is None:\n",
    "        scaler = minMaxScaler.fit(x_in.view(-1, x_in.size()[2])) \n",
    "    x_scaled = torch.empty(size=(x_in.size()[0], x_in.size()[1], x_in.size()[2]))\n",
    "    for i in range(x_in.size()[0]):\n",
    "        x_scaled[i] = torch.tensor(scaler.transform(x_in[i])) \n",
    "    return x_scaled, y_in, scaler"
   ]
  },
  {
   "cell_type": "markdown",
   "metadata": {},
   "source": [
    "#### Load data"
   ]
  },
  {
   "cell_type": "code",
   "execution_count": null,
   "metadata": {},
   "outputs": [],
   "source": [
    "dict = load_data(12)\n",
    "dict[\"test_generated\"] = load_generated_data(\"24-04-2024_trueness_1_CGAN_2/epoch_1250\", create_init_files=True)"
   ]
  },
  {
   "cell_type": "code",
   "execution_count": null,
   "metadata": {},
   "outputs": [],
   "source": [
    "visual_features = [\"gaze_0_x\", \"gaze_0_y\", \"gaze_0_z\", \"gaze_1_x\", \"gaze_1_y\", \"gaze_1_z\", \"gaze_angle_x\", \"gaze_angle_y\", \"pose_Rx\", \"pose_Ry\",\n",
    "                \"pose_Rz\", \"AU01_r\", \"AU02_r\", \"AU04_r\", \"AU05_r\", \"AU06_r\", \"AU07_r\", \"AU09_r\", \"AU10_r\", \"AU12_r\", \"AU14_r\", \"AU15_r\", \"AU17_r\", \"AU20_r\", \"AU23_r\", \"AU25_r\", \"AU26_r\", \"AU45_r\"]\n",
    "\n",
    "yeux = [visual_features.index(\"gaze_0_x\"), visual_features.index(\"gaze_0_y\"), visual_features.index(\"gaze_0_z\"), visual_features.index(\"gaze_1_x\"), visual_features.index(\"gaze_1_y\"), visual_features.index(\"gaze_1_z\")]\n",
    "pose = [visual_features.index(\"pose_Rx\"), visual_features.index(\"pose_Ry\"), visual_features.index(\"pose_Rz\")]\n",
    "au = [visual_features.index(\"AU01_r\"), visual_features.index(\"AU02_r\"), visual_features.index(\"AU04_r\"), visual_features.index(\"AU05_r\"), visual_features.index(\"AU06_r\"), visual_features.index(\"AU07_r\"), visual_features.index(\"AU09_r\"), visual_features.index(\"AU10_r\"), visual_features.index(\"AU12_r\"), visual_features.index(\"AU14_r\"), visual_features.index(\"AU15_r\"), visual_features.index(\"AU17_r\"), visual_features.index(\"AU20_r\"), visual_features.index(\"AU23_r\"), visual_features.index(\"AU25_r\"), visual_features.index(\"AU26_r\"), visual_features.index(\"AU45_r\")]\n",
    "sourcils = [visual_features.index(\"AU01_r\"), visual_features.index(\"AU02_r\"), visual_features.index(\"AU04_r\")]\n",
    "visage = [visual_features.index(\"AU05_r\"), visual_features.index(\"AU06_r\"), visual_features.index(\"AU07_r\"), visual_features.index(\"AU09_r\"), visual_features.index(\"AU10_r\")]\n",
    "bouche = [visual_features.index(\"AU12_r\"), visual_features.index(\"AU14_r\"), visual_features.index(\"AU15_r\"), visual_features.index(\"AU17_r\"), visual_features.index(\"AU20_r\"), visual_features.index(\"AU23_r\"), visual_features.index(\"AU25_r\"), visual_features.index(\"AU26_r\")]\n",
    "clignement = [visual_features.index(\"AU45_r\")]\n",
    "\n",
    "feature_index = [visual_features.index(\"AU06_r\"), visual_features.index(\"AU07_r\"), visual_features.index(\"AU14_r\"), visual_features.index(\"AU15_r\"),visual_features.index(\"AU20_r\"),visual_features.index(\"AU26_r\"), visual_features.index(\"AU45_r\")]"
   ]
  },
  {
   "cell_type": "markdown",
   "metadata": {},
   "source": [
    "#### With training"
   ]
  },
  {
   "cell_type": "code",
   "execution_count": null,
   "metadata": {},
   "outputs": [],
   "source": [
    "label = \"gender\"\n",
    "tensor = \"one_hot_tensor_gender\"\n",
    "nb_labels = 3\n",
    "\n",
    "\n",
    "train_data, train_labels = supress_index(dict[\"train\"][label], dict[\"train\"][tensor], dict[\"train\"][\"Y_behaviour\"][:,:,:]) #features_index\n",
    "test_data, test_labels = supress_index(dict[\"test\"][label], dict[\"test\"][tensor], dict[\"test\"][\"Y_behaviour\"][:,:,:]) #features_index\n",
    "\n",
    "X_train, y_train, scaler = reshape_for_classif(train_data, train_labels)\n",
    "X_test, y_test, _ = reshape_for_classif(test_data, test_labels, scaler)\n",
    "\n",
    "\n",
    "train_dataset = torch.utils.data.TensorDataset(X_train, y_train)\n",
    "train_loader = torch.utils.data.DataLoader(train_dataset, batch_size=32, shuffle=True)\n",
    "test_dataset = torch.utils.data.TensorDataset(X_test, y_test)\n",
    "test_loader = torch.utils.data.DataLoader(test_dataset, batch_size=32, shuffle=True)\n",
    "\n",
    "classifier = ConvClassifier(train_data.shape[2], nb_labels)\n",
    "optimizer = torch.optim.Adam(classifier.parameters(), lr=0.001)\n",
    "criterion = nn.CrossEntropyLoss()\n",
    "\n",
    "\n",
    "for i in range(10):\n",
    "    model, acc = train_model(classifier, criterion, optimizer, train_loader, test_loader, num_epochs=10)\n",
    "    print(\"Test accuracy: \", acc)"
   ]
  },
  {
   "cell_type": "markdown",
   "metadata": {},
   "source": [
    "#### Without training (using the saved model)"
   ]
  },
  {
   "cell_type": "code",
   "execution_count": null,
   "metadata": {},
   "outputs": [],
   "source": [
    "dict = load_data(12)\n",
    "dict[\"test_generated\"] = load_generated_data(\"24-04-2024_trueness_1_CGAN_2/epoch_1250\", create_init_files=True)"
   ]
  },
  {
   "cell_type": "code",
   "execution_count": null,
   "metadata": {},
   "outputs": [],
   "source": [
    "label = \"gender\"\n",
    "tensor = \"one_hot_tensor_gender\"\n",
    "nb_labels = 3\n",
    "test = \"test_generated\"\n",
    "\n",
    "train_data, train_labels = supress_index(dict[\"train\"][label], dict[\"train\"][tensor], dict[\"train\"][\"Y_behaviour\"][:,:,:])\n",
    "test_data, test_labels = supress_index(dict[test][label], dict[test][tensor], dict[test][\"Y_behaviour\"][:,:,:])\n",
    "X_train, y_train, scaler = reshape_for_classif(train_data, train_labels)\n",
    "X_test, y_test, _ = reshape_for_classif(test_data, test_labels, scaler)\n",
    "\n",
    "classifier = ConvClassifier(train_data.shape[2], nb_labels)\n",
    "classifier.load_state_dict(torch.load(\"saved_models/gender_classifier.pt\"))\n",
    "\n",
    "train_dataset = torch.utils.data.TensorDataset(X_train, y_train)\n",
    "train_loader = torch.utils.data.DataLoader(train_dataset, batch_size=32, shuffle=True)\n",
    "test_dataset = torch.utils.data.TensorDataset(X_test, y_test)\n",
    "test_loader = torch.utils.data.DataLoader(test_dataset, batch_size=32, shuffle=True)\n",
    "\n",
    "\n",
    "with torch.no_grad():\n",
    "        classifier.eval()\n",
    "        test_loss, test_accuracy, test_f1, all_labels, all_predictions = test_model(classifier, test_loader, nn.CrossEntropyLoss())\n",
    "        print(\"Accuracy: \", test_accuracy)\n"
   ]
  },
  {
   "cell_type": "markdown",
   "metadata": {},
   "source": [
    "# Gender classifier on audio"
   ]
  },
  {
   "cell_type": "code",
   "execution_count": null,
   "metadata": {},
   "outputs": [],
   "source": [
    "\n",
    "class Conv(nn.Module):\n",
    "    def __init__(self, in_channels, out_channels):\n",
    "        super().__init__()\n",
    "        self.conv = nn.Sequential(\n",
    "            nn.Conv1d(in_channels, out_channels, kernel_size=3, stride=1, padding=1),\n",
    "            nn.Dropout(0.2),\n",
    "            nn.BatchNorm1d(out_channels),\n",
    "            nn.ReLU(inplace=True)\n",
    "        )\n",
    "\n",
    "    def forward(self, x):\n",
    "        return self.conv(x)\n",
    "    \n",
    "\n",
    "class ConvClassifier(nn.Module):\n",
    "\n",
    "    def __init__(self, latent_dim, nb_classes):\n",
    "        super().__init__()\n",
    "        self.conv1 = Conv(latent_dim, 512)\n",
    "        self.conv2 = Conv(512, 128)\n",
    "        self.conv3 = Conv(128, 64)\n",
    "        self.fc1 = torch.nn.Linear(64 * 25, 64)\n",
    "        self.fc2 = torch.nn.Linear(64, nb_classes)\n",
    "\n",
    "    def forward(self, x):\n",
    "        x = x.swapaxes(1, 2)\n",
    "        x = self.conv1(x)\n",
    "        x = F.max_pool1d(x, kernel_size=2, stride=2)\n",
    "        x = self.conv2(x)\n",
    "        x = F.max_pool1d(x, kernel_size=2, stride=2)\n",
    "        x = self.conv3(x)\n",
    "        x = F.max_pool1d(x, kernel_size=2, stride=2)\n",
    "        x = x.view(x.size(0), -1)\n",
    "        x = F.relu(self.fc1(x))\n",
    "        x = self.fc2(x)\n",
    "        x = F.log_softmax(x, dim=1)\n",
    "        return x"
   ]
  },
  {
   "cell_type": "code",
   "execution_count": null,
   "metadata": {},
   "outputs": [],
   "source": [
    "def conf_matrix(y_test, y_pred):\n",
    "    conf_matrix = confusion_matrix(y_test, y_pred)\n",
    "    print(\"Matrice de confusion :\\n\")\n",
    "    print(str(conf_matrix))\n",
    "    errors_per_class = []\n",
    "    for i in range(len(conf_matrix)):\n",
    "        errors_per_class.append(sum(conf_matrix[i]) - conf_matrix[i][i])\n",
    "    print(\"\\nNombre d'erreurs par classe :\\n\")\n",
    "    for i in range(len(errors_per_class)):\n",
    "        print(f\"Classe {i}: {errors_per_class[i]} erreurs\")\n",
    "\n",
    "def test_model(model, test_loader, criterion):\n",
    "    model.eval()\n",
    "    all_predictions = []\n",
    "    all_labels = []\n",
    "    with torch.no_grad():\n",
    "        for inputs, labels in test_loader:\n",
    "            outputs = model(inputs)\n",
    "            loss = criterion(outputs, labels)\n",
    "            item, predicted = torch.max(outputs, 1)\n",
    "            all_predictions.extend(predicted.squeeze().numpy())\n",
    "            all_labels.extend(labels)\n",
    "    all_labels = [one_hot_to_index(ele, label) for ele in all_labels]\n",
    "    accuracy = accuracy_score(all_labels, all_predictions)\n",
    "    f1 = f1_score(all_labels, all_predictions, average='weighted')\n",
    "    return loss, accuracy, f1, all_labels, all_predictions\n",
    "\n",
    "\n",
    "def train_model(model, criterion, optimizer, train_loader, test_loader, num_epochs=100):\n",
    "    model.train()\n",
    "    for epoch in range(num_epochs):\n",
    "        running_loss = 0.0\n",
    "        for inputs, labels in train_loader:\n",
    "            optimizer.zero_grad()\n",
    "            outputs = model(inputs)\n",
    "            #print(outputs, labels)\n",
    "            loss = criterion(outputs, labels)\n",
    "            loss.backward()\n",
    "            optimizer.step()\n",
    "            running_loss += loss.item() * inputs.size(0)\n",
    "        epoch_loss = running_loss / len(train_loader.dataset)\n",
    "        test_loss, test_accuracy, test_f1, all_labels, all_predictions = test_model(model, test_loader, criterion)\n",
    "        print(f'Epoch [{epoch+1}/{num_epochs}], Loss: {epoch_loss:.4f}, test_loss: {test_loss:.4f}, test_accuracy: {test_accuracy:.4f}')\n",
    "    return model\n"
   ]
  },
  {
   "cell_type": "code",
   "execution_count": null,
   "metadata": {},
   "outputs": [],
   "source": [
    "def reshape_for_classif(x_in, y_in, scaler=None):\n",
    "    minMaxScaler = MinMaxScaler((0,1))\n",
    "    if scaler is None:\n",
    "        scaler = minMaxScaler.fit(x_in.view(-1, x_in.size()[2])) \n",
    "    x_scaled = torch.empty(size=(x_in.size()[0], x_in.size()[1], x_in.size()[2]))\n",
    "    for i in range(x_in.size()[0]):\n",
    "        x_scaled[i] = torch.tensor(scaler.transform(x_in[i])) \n",
    "    return x_scaled, y_in, scaler"
   ]
  },
  {
   "cell_type": "markdown",
   "metadata": {},
   "source": [
    "### With training"
   ]
  },
  {
   "cell_type": "code",
   "execution_count": null,
   "metadata": {},
   "outputs": [],
   "source": [
    "dict = load_data(12)"
   ]
  },
  {
   "cell_type": "code",
   "execution_count": null,
   "metadata": {},
   "outputs": [],
   "source": [
    "label = \"gender\"\n",
    "tensor = \"one_hot_tensor_gender\"\n",
    "nb_labels = 3\n",
    "\n",
    "\n",
    "X_train, y_train, scaler = reshape_for_classif(dict[\"train\"][\"X_audio_hubert\"], dict[\"train\"][\"one_hot_tensor_gender\"])\n",
    "X_test, y_test, _ = reshape_for_classif(dict[\"test\"][\"X_audio_hubert\"], dict[\"test\"][\"one_hot_tensor_gender\"], scaler)\n",
    "\n",
    "train_dataset = torch.utils.data.TensorDataset(X_train, y_train)\n",
    "train_loader = torch.utils.data.DataLoader(train_dataset, batch_size=32, shuffle=True)\n",
    "test_dataset = torch.utils.data.TensorDataset(X_test, y_test)\n",
    "test_loader = torch.utils.data.DataLoader(test_dataset, batch_size=32, shuffle=True)\n",
    "\n",
    "classifier = ConvClassifier(1025, nb_labels)\n",
    "optimizer = torch.optim.Adam(classifier.parameters(), lr=0.001)\n",
    "criterion = nn.CrossEntropyLoss()\n",
    "\n",
    "model = train_model(classifier, criterion, optimizer, train_loader, test_loader, num_epochs=100)"
   ]
  },
  {
   "cell_type": "markdown",
   "metadata": {},
   "source": [
    "### Without training"
   ]
  },
  {
   "cell_type": "code",
   "execution_count": null,
   "metadata": {},
   "outputs": [],
   "source": [
    "dict = load_data(12)"
   ]
  },
  {
   "cell_type": "code",
   "execution_count": null,
   "metadata": {},
   "outputs": [],
   "source": [
    "label = \"gender\"\n",
    "tensor = \"one_hot_tensor_gender\"\n",
    "nb_labels = 3\n",
    "\n",
    "X_train, y_train, scaler = reshape_for_classif(dict[\"train\"][\"X_audio_hubert\"], dict[\"train\"][\"one_hot_tensor_gender\"])\n",
    "X_test, y_test, _ = reshape_for_classif(dict[\"test\"][\"X_audio_hubert\"], dict[\"test\"][\"one_hot_tensor_gender\"], scaler)\n",
    "\n",
    "train_dataset = torch.utils.data.TensorDataset(X_train, y_train)\n",
    "train_loader = torch.utils.data.DataLoader(train_dataset, batch_size=32, shuffle=True)\n",
    "test_dataset = torch.utils.data.TensorDataset(X_test, y_test)\n",
    "test_loader = torch.utils.data.DataLoader(test_dataset, batch_size=32, shuffle=True)\n",
    "\n",
    "classifier = ConvClassifier(1025, nb_labels)\n",
    "classifier.load_state_dict(torch.load(\"saved_models/gender_audio_classifier.pt\"))\n",
    "optimizer = torch.optim.Adam(classifier.parameters(), lr=0.001)\n",
    "criterion = nn.CrossEntropyLoss()\n",
    "\n",
    "with torch.no_grad():\n",
    "        classifier.eval()\n",
    "        test_loss, test_accuracy, test_f1, all_labels, all_predictions = test_model(classifier, test_loader, criterion)\n",
    "        print(\"Accuracy: \", test_accuracy)\n"
   ]
  }
 ],
 "metadata": {
  "kernelspec": {
   "display_name": "myenv",
   "language": "python",
   "name": "python3"
  },
  "language_info": {
   "codemirror_mode": {
    "name": "ipython",
    "version": 3
   },
   "file_extension": ".py",
   "mimetype": "text/x-python",
   "name": "python",
   "nbconvert_exporter": "python",
   "pygments_lexer": "ipython3",
   "version": "3.9.18"
  },
  "orig_nbformat": 4
 },
 "nbformat": 4,
 "nbformat_minor": 2
}
